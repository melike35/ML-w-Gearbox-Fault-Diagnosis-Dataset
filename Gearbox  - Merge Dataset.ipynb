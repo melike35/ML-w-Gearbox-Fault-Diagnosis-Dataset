{
  "nbformat": 4,
  "nbformat_minor": 0,
  "metadata": {
    "colab": {
      "name": "ml gearbox merge data.ipynb",
      "provenance": []
    },
    "kernelspec": {
      "name": "python3",
      "display_name": "Python 3"
    },
    "language_info": {
      "name": "python"
    }
  },
  "cells": [
    {
      "cell_type": "code",
      "metadata": {
        "id": "fHGJU5G6I8JZ"
      },
      "source": [
        "import numpy                as np\n",
        "import matplotlib.pyplot    as plt\n",
        "import pandas               as pd\n",
        "\n",
        "from mpl_toolkits           import mplot3d"
      ],
      "execution_count": null,
      "outputs": []
    },
    {
      "cell_type": "code",
      "metadata": {
        "id": "3rAn9eFZvxSG"
      },
      "source": [
        ""
      ],
      "execution_count": null,
      "outputs": []
    },
    {
      "cell_type": "markdown",
      "metadata": {
        "id": "658jnaMhvxuG"
      },
      "source": [
        "**Gearbox Fault Diagnosis Data set** include the vibration dataset recorded by using SpectraQuest’s Gearbox Fault Diagnostics Simulator.\n",
        "Dataset has been recorded using 4 vibration sensors placed in four different direction, and under variation of load from '0' to '90' percent. Two different scenario are included:\n",
        "1) Healthy condition and\n",
        "2) Broken Tooth Condition\n",
        "There are 20 files in total, 10 for healthy gearbox and 10 from broken one. Each file corresponds to a given load from 0% to 90% in steps of 10%"
      ]
    },
    {
      "cell_type": "code",
      "metadata": {
        "id": "-i4f80EHLa0U"
      },
      "source": [
        "# Healthy"
      ],
      "execution_count": null,
      "outputs": []
    },
    {
      "cell_type": "code",
      "metadata": {
        "id": "QUUNavS2I8Lq"
      },
      "source": [
        "h30hz0  = pd.read_csv(\"Healthy/h30hz0.csv\")\n",
        "h30hz10 = pd.read_csv(\"Healthy/h30hz10.csv\")\n",
        "h30hz20 = pd.read_csv(\"Healthy/h30hz20.csv\")\n",
        "h30hz30 = pd.read_csv(\"Healthy/h30hz30.csv\")\n",
        "h30hz40 = pd.read_csv(\"Healthy/h30hz40.csv\")\n",
        "h30hz50 = pd.read_csv(\"Healthy/h30hz50.csv\")\n",
        "h30hz60 = pd.read_csv(\"Healthy/h30hz60.csv\")\n",
        "h30hz70 = pd.read_csv(\"Healthy/h30hz70.csv\")\n",
        "h30hz80 = pd.read_csv(\"Healthy/h30hz80.csv\")\n",
        "h30hz90 = pd.read_csv(\"Healthy/h30hz90.csv\")"
      ],
      "execution_count": null,
      "outputs": []
    },
    {
      "cell_type": "code",
      "metadata": {
        "id": "Jq1SeXcqUN7z"
      },
      "source": [
        "h30hz0  = pd.read_csv(\"h30hz0.csv\")"
      ],
      "execution_count": null,
      "outputs": []
    },
    {
      "cell_type": "code",
      "metadata": {
        "id": "YrT_uztFUaGD",
        "colab": {
          "base_uri": "https://localhost:8080/",
          "height": 392
        },
        "outputId": "a6e425e7-9f87-4aa9-dd91-ee4650aeb237"
      },
      "source": [
        "h30hz0"
      ],
      "execution_count": null,
      "outputs": [
        {
          "output_type": "execute_result",
          "data": {
            "text/html": [
              "<div>\n",
              "<style scoped>\n",
              "    .dataframe tbody tr th:only-of-type {\n",
              "        vertical-align: middle;\n",
              "    }\n",
              "\n",
              "    .dataframe tbody tr th {\n",
              "        vertical-align: top;\n",
              "    }\n",
              "\n",
              "    .dataframe thead th {\n",
              "        text-align: right;\n",
              "    }\n",
              "</style>\n",
              "<table border=\"1\" class=\"dataframe\">\n",
              "  <thead>\n",
              "    <tr style=\"text-align: right;\">\n",
              "      <th></th>\n",
              "      <th>a1</th>\n",
              "      <th>a2</th>\n",
              "      <th>a3</th>\n",
              "      <th>a4</th>\n",
              "    </tr>\n",
              "  </thead>\n",
              "  <tbody>\n",
              "    <tr>\n",
              "      <th>0</th>\n",
              "      <td>4.636710</td>\n",
              "      <td>0.516978</td>\n",
              "      <td>-3.205940</td>\n",
              "      <td>1.822410</td>\n",
              "    </tr>\n",
              "    <tr>\n",
              "      <th>1</th>\n",
              "      <td>1.992800</td>\n",
              "      <td>4.184660</td>\n",
              "      <td>-2.740610</td>\n",
              "      <td>2.804360</td>\n",
              "    </tr>\n",
              "    <tr>\n",
              "      <th>2</th>\n",
              "      <td>-3.764110</td>\n",
              "      <td>0.997335</td>\n",
              "      <td>-1.303090</td>\n",
              "      <td>1.836680</td>\n",
              "    </tr>\n",
              "    <tr>\n",
              "      <th>3</th>\n",
              "      <td>-4.558710</td>\n",
              "      <td>6.104330</td>\n",
              "      <td>-1.720690</td>\n",
              "      <td>1.723110</td>\n",
              "    </tr>\n",
              "    <tr>\n",
              "      <th>4</th>\n",
              "      <td>0.575382</td>\n",
              "      <td>0.170980</td>\n",
              "      <td>-0.497967</td>\n",
              "      <td>-1.328950</td>\n",
              "    </tr>\n",
              "    <tr>\n",
              "      <th>...</th>\n",
              "      <td>...</td>\n",
              "      <td>...</td>\n",
              "      <td>...</td>\n",
              "      <td>...</td>\n",
              "    </tr>\n",
              "    <tr>\n",
              "      <th>88827</th>\n",
              "      <td>2.809130</td>\n",
              "      <td>-3.421020</td>\n",
              "      <td>2.817560</td>\n",
              "      <td>5.418570</td>\n",
              "    </tr>\n",
              "    <tr>\n",
              "      <th>88828</th>\n",
              "      <td>11.952700</td>\n",
              "      <td>1.738450</td>\n",
              "      <td>4.215360</td>\n",
              "      <td>5.602480</td>\n",
              "    </tr>\n",
              "    <tr>\n",
              "      <th>88829</th>\n",
              "      <td>6.530280</td>\n",
              "      <td>-3.127760</td>\n",
              "      <td>-2.620330</td>\n",
              "      <td>-3.159950</td>\n",
              "    </tr>\n",
              "    <tr>\n",
              "      <th>88830</th>\n",
              "      <td>-8.614460</td>\n",
              "      <td>5.420640</td>\n",
              "      <td>-6.559170</td>\n",
              "      <td>-0.519373</td>\n",
              "    </tr>\n",
              "    <tr>\n",
              "      <th>88831</th>\n",
              "      <td>-13.777300</td>\n",
              "      <td>2.096510</td>\n",
              "      <td>-0.539919</td>\n",
              "      <td>-2.721940</td>\n",
              "    </tr>\n",
              "  </tbody>\n",
              "</table>\n",
              "<p>88832 rows × 4 columns</p>\n",
              "</div>"
            ],
            "text/plain": [
              "              a1        a2        a3        a4\n",
              "0       4.636710  0.516978 -3.205940  1.822410\n",
              "1       1.992800  4.184660 -2.740610  2.804360\n",
              "2      -3.764110  0.997335 -1.303090  1.836680\n",
              "3      -4.558710  6.104330 -1.720690  1.723110\n",
              "4       0.575382  0.170980 -0.497967 -1.328950\n",
              "...          ...       ...       ...       ...\n",
              "88827   2.809130 -3.421020  2.817560  5.418570\n",
              "88828  11.952700  1.738450  4.215360  5.602480\n",
              "88829   6.530280 -3.127760 -2.620330 -3.159950\n",
              "88830  -8.614460  5.420640 -6.559170 -0.519373\n",
              "88831 -13.777300  2.096510 -0.539919 -2.721940\n",
              "\n",
              "[88832 rows x 4 columns]"
            ]
          },
          "metadata": {
            "tags": []
          },
          "execution_count": 5
        }
      ]
    },
    {
      "cell_type": "code",
      "metadata": {
        "id": "CwBp1tTbOZbl"
      },
      "source": [
        "# Broken"
      ],
      "execution_count": null,
      "outputs": []
    },
    {
      "cell_type": "code",
      "metadata": {
        "id": "5K2eGMFAL85r"
      },
      "source": [
        "b30hz0  = pd.read_csv(\"BrokenTooth/b30hz0.csv\")\n",
        "b30hz10 = pd.read_csv(\"BrokenTooth/b30hz10.csv\")\n",
        "b30hz20 = pd.read_csv(\"BrokenTooth/b30hz20.csv\")\n",
        "b30hz30 = pd.read_csv(\"BrokenTooth/b30hz30.csv\")\n",
        "b30hz40 = pd.read_csv(\"BrokenTooth/b30hz40.csv\")\n",
        "b30hz50 = pd.read_csv(\"BrokenTooth/b30hz50.csv\")\n",
        "b30hz60 = pd.read_csv(\"BrokenTooth/b30hz60.csv\")\n",
        "b30hz70 = pd.read_csv(\"BrokenTooth/b30hz70.csv\")\n",
        "b30hz80 = pd.read_csv(\"BrokenTooth/b30hz80.csv\")\n",
        "b30hz90 = pd.read_csv(\"BrokenTooth/b30hz90.csv\")"
      ],
      "execution_count": null,
      "outputs": []
    },
    {
      "cell_type": "code",
      "metadata": {
        "id": "d3YX0aLKOnD2"
      },
      "source": [
        "# Add Load and Failure Column for Healthy"
      ],
      "execution_count": null,
      "outputs": []
    },
    {
      "cell_type": "code",
      "metadata": {
        "id": "neWT2kmuRDl0"
      },
      "source": [
        "failure = 0"
      ],
      "execution_count": null,
      "outputs": []
    },
    {
      "cell_type": "code",
      "metadata": {
        "id": "hc0IXL3wQsW6"
      },
      "source": [
        "load = 0"
      ],
      "execution_count": null,
      "outputs": []
    },
    {
      "cell_type": "code",
      "metadata": {
        "id": "qIbVS7b2QUVA"
      },
      "source": [
        "h30hz0['load'] = load*np.ones((len(h30hz0.index),1))\n",
        "failureArray = np.zeros((len(h30hz0.index),1))\n",
        "h30hz0['failure'] = failureArray"
      ],
      "execution_count": null,
      "outputs": []
    },
    {
      "cell_type": "code",
      "metadata": {
        "id": "ksmePJ29P328"
      },
      "source": [
        "load = 10"
      ],
      "execution_count": null,
      "outputs": []
    },
    {
      "cell_type": "code",
      "metadata": {
        "id": "cqMAyuAaRJ42"
      },
      "source": [
        "h30hz10['load'] = load*np.ones((len(h30hz10.index),1))\n",
        "failureArray = np.zeros((len(h30hz10.index),1))\n",
        "h30hz10['failure'] = failureArray"
      ],
      "execution_count": null,
      "outputs": []
    },
    {
      "cell_type": "code",
      "metadata": {
        "id": "jYA1k-hMRJ9Q"
      },
      "source": [
        "load = 20"
      ],
      "execution_count": null,
      "outputs": []
    },
    {
      "cell_type": "code",
      "metadata": {
        "id": "Lvj8m9oMRJ_a"
      },
      "source": [
        "h30hz20['load'] = load*np.ones((len(h30hz20.index),1))\n",
        "failureArray = np.zeros((len(h30hz20.index),1))\n",
        "h30hz20['failure'] = failureArray"
      ],
      "execution_count": null,
      "outputs": []
    },
    {
      "cell_type": "code",
      "metadata": {
        "id": "4oSJohJ6RyE9"
      },
      "source": [
        "load = 30"
      ],
      "execution_count": null,
      "outputs": []
    },
    {
      "cell_type": "code",
      "metadata": {
        "id": "Np3IzGbBR1jz"
      },
      "source": [
        "h30hz30['load'] = load*np.ones((len(h30hz30.index),1))\n",
        "failureArray = np.zeros((len(h30hz30.index),1))\n",
        "h30hz30['failure'] = failureArray"
      ],
      "execution_count": null,
      "outputs": []
    },
    {
      "cell_type": "code",
      "metadata": {
        "id": "cHjGitx2R5fC"
      },
      "source": [
        "load = 40"
      ],
      "execution_count": null,
      "outputs": []
    },
    {
      "cell_type": "code",
      "metadata": {
        "id": "muuqByT2R9C8"
      },
      "source": [
        "h30hz40['load'] = load*np.ones((len(h30hz40.index),1))\n",
        "failureArray = np.zeros((len(h30hz40.index),1))\n",
        "h30hz40['failure'] = failureArray"
      ],
      "execution_count": null,
      "outputs": []
    },
    {
      "cell_type": "code",
      "metadata": {
        "id": "j8BF_Y-7SEYG"
      },
      "source": [
        "load = 50"
      ],
      "execution_count": null,
      "outputs": []
    },
    {
      "cell_type": "code",
      "metadata": {
        "id": "18z5w48tSEYI"
      },
      "source": [
        "h30hz50['load'] = load*np.ones((len(h30hz50.index),1))\n",
        "failureArray = np.zeros((len(h30hz50.index),1))\n",
        "h30hz50['failure'] = failureArray"
      ],
      "execution_count": null,
      "outputs": []
    },
    {
      "cell_type": "code",
      "metadata": {
        "id": "Scy49CvwSIrf"
      },
      "source": [
        "load = 60"
      ],
      "execution_count": null,
      "outputs": []
    },
    {
      "cell_type": "code",
      "metadata": {
        "id": "rdu6B8JmSIrf"
      },
      "source": [
        "h30hz60['load'] = load*np.ones((len(h30hz60.index),1))\n",
        "failureArray = np.zeros((len(h30hz60.index),1))\n",
        "h30hz60['failure'] = failureArray"
      ],
      "execution_count": null,
      "outputs": []
    },
    {
      "cell_type": "code",
      "metadata": {
        "id": "Q1AR61kfSUb1"
      },
      "source": [
        "load = 70"
      ],
      "execution_count": null,
      "outputs": []
    },
    {
      "cell_type": "code",
      "metadata": {
        "id": "KOiLvN15SUb4"
      },
      "source": [
        "h30hz70['load'] = load*np.ones((len(h30hz70.index),1))\n",
        "failureArray = np.zeros((len(h30hz70.index),1))\n",
        "h30hz70['failure'] = failureArray"
      ],
      "execution_count": null,
      "outputs": []
    },
    {
      "cell_type": "code",
      "metadata": {
        "id": "rHXCrrzNSYlZ"
      },
      "source": [
        "load = 80"
      ],
      "execution_count": null,
      "outputs": []
    },
    {
      "cell_type": "code",
      "metadata": {
        "id": "xAvdbywvSYla"
      },
      "source": [
        "h30hz80['load'] = load*np.ones((len(h30hz80.index),1))\n",
        "failureArray = np.zeros((len(h30hz80.index),1))\n",
        "h30hz80['failure'] = failureArray"
      ],
      "execution_count": null,
      "outputs": []
    },
    {
      "cell_type": "code",
      "metadata": {
        "id": "k9ntkgA0SfPA"
      },
      "source": [
        "load = 90"
      ],
      "execution_count": null,
      "outputs": []
    },
    {
      "cell_type": "code",
      "metadata": {
        "id": "QRDVqJhdSfPB"
      },
      "source": [
        "h30hz90['load'] = load*np.ones((len(h30hz90.index),1))\n",
        "failureArray = np.zeros((len(h30hz90.index),1))\n",
        "h30hz90['failure'] = failureArray"
      ],
      "execution_count": null,
      "outputs": []
    },
    {
      "cell_type": "code",
      "metadata": {
        "id": "dKHGxFKqSpzL"
      },
      "source": [
        "# Add Load and Failure Column for Broken"
      ],
      "execution_count": null,
      "outputs": []
    },
    {
      "cell_type": "code",
      "metadata": {
        "id": "7uk40HFJS-rC"
      },
      "source": [
        "failure = 1"
      ],
      "execution_count": null,
      "outputs": []
    },
    {
      "cell_type": "code",
      "metadata": {
        "id": "5BXPgalJS-rO"
      },
      "source": [
        "load = 0"
      ],
      "execution_count": null,
      "outputs": []
    },
    {
      "cell_type": "code",
      "metadata": {
        "id": "Z7CQLhDnS-rQ"
      },
      "source": [
        "b30hz0['load'] = load*np.ones((len(b30hz0.index),1))\n",
        "failureArray = np.ones((len(b30hz0.index),1))\n",
        "b30hz0['failure'] = failureArray"
      ],
      "execution_count": null,
      "outputs": []
    },
    {
      "cell_type": "code",
      "metadata": {
        "id": "gP5WJoybS-rR"
      },
      "source": [
        "load = 10 "
      ],
      "execution_count": null,
      "outputs": []
    },
    {
      "cell_type": "code",
      "metadata": {
        "id": "LDydOXK4S-rS"
      },
      "source": [
        "b30hz10['load'] = load*np.ones((len(b30hz10.index),1))\n",
        "failureArray = np.ones((len(b30hz10.index),1))\n",
        "b30hz10['failure'] = failureArray"
      ],
      "execution_count": null,
      "outputs": []
    },
    {
      "cell_type": "code",
      "metadata": {
        "id": "qtWA_zzKS-rT"
      },
      "source": [
        "load = 20 "
      ],
      "execution_count": null,
      "outputs": []
    },
    {
      "cell_type": "code",
      "metadata": {
        "id": "rlmhILaBS-rU"
      },
      "source": [
        "b30hz20['load'] = load*np.ones((len(b30hz20.index),1))\n",
        "failureArray = np.ones((len(b30hz20.index),1))\n",
        "b30hz20['failure'] = failureArray"
      ],
      "execution_count": null,
      "outputs": []
    },
    {
      "cell_type": "code",
      "metadata": {
        "id": "BCnQp24US-rV"
      },
      "source": [
        "load = 30 "
      ],
      "execution_count": null,
      "outputs": []
    },
    {
      "cell_type": "code",
      "metadata": {
        "id": "6n0Lp-HiS-rV"
      },
      "source": [
        "b30hz30['load'] = load*np.ones((len(b30hz30.index),1))\n",
        "failureArray = np.ones((len(b30hz30.index),1))\n",
        "b30hz30['failure'] = failureArray"
      ],
      "execution_count": null,
      "outputs": []
    },
    {
      "cell_type": "code",
      "metadata": {
        "id": "9--3AjaLS-rW"
      },
      "source": [
        "load = 40 "
      ],
      "execution_count": null,
      "outputs": []
    },
    {
      "cell_type": "code",
      "metadata": {
        "id": "N-63B8Z1S-rX"
      },
      "source": [
        "b30hz40['load'] = load*np.ones((len(b30hz40.index),1))\n",
        "failureArray = np.ones((len(b30hz40.index),1))\n",
        "b30hz40['failure'] = failureArray"
      ],
      "execution_count": null,
      "outputs": []
    },
    {
      "cell_type": "code",
      "metadata": {
        "id": "GvygkQZiS-rY"
      },
      "source": [
        "load = 50 "
      ],
      "execution_count": null,
      "outputs": []
    },
    {
      "cell_type": "code",
      "metadata": {
        "id": "ZHH1yfDnS-rY"
      },
      "source": [
        "b30hz50['load'] = load*np.ones((len(b30hz50.index),1))\n",
        "failureArray = np.ones((len(b30hz50.index),1))\n",
        "b30hz50['failure'] = failureArray"
      ],
      "execution_count": null,
      "outputs": []
    },
    {
      "cell_type": "code",
      "metadata": {
        "id": "wWAsnsGNS-rZ"
      },
      "source": [
        "load = 60 "
      ],
      "execution_count": null,
      "outputs": []
    },
    {
      "cell_type": "code",
      "metadata": {
        "id": "2WdB8BfWS-ra"
      },
      "source": [
        "b30hz60['load'] = load*np.ones((len(b30hz60.index),1))\n",
        "failureArray = np.ones((len(b30hz60.index),1))\n",
        "b30hz60['failure'] = failureArray"
      ],
      "execution_count": null,
      "outputs": []
    },
    {
      "cell_type": "code",
      "metadata": {
        "id": "l4yxmsR0S-rb"
      },
      "source": [
        "load = 70 "
      ],
      "execution_count": null,
      "outputs": []
    },
    {
      "cell_type": "code",
      "metadata": {
        "id": "nPahvk25S-rb"
      },
      "source": [
        "b30hz70['load'] = load*np.ones((len(b30hz70.index),1))\n",
        "failureArray = np.ones((len(b30hz70.index),1))\n",
        "b30hz70['failure'] = failureArray"
      ],
      "execution_count": null,
      "outputs": []
    },
    {
      "cell_type": "code",
      "metadata": {
        "id": "WJGbVpn4S-rc"
      },
      "source": [
        "load = 80 "
      ],
      "execution_count": null,
      "outputs": []
    },
    {
      "cell_type": "code",
      "metadata": {
        "id": "T0HhoofDS-rc"
      },
      "source": [
        "b30hz80['load'] = load*np.ones((len(b30hz80.index),1))\n",
        "failureArray = np.ones((len(b30hz80.index),1))\n",
        "b30hz80['failure'] = failureArray"
      ],
      "execution_count": null,
      "outputs": []
    },
    {
      "cell_type": "code",
      "metadata": {
        "id": "7pyAd9gQS-rc"
      },
      "source": [
        "load = 90 "
      ],
      "execution_count": null,
      "outputs": []
    },
    {
      "cell_type": "code",
      "metadata": {
        "id": "FOh_5Q9qS-rd"
      },
      "source": [
        "b30hz90['load'] = load*np.ones((len(b30hz90.index),1))\n",
        "failureArray = np.ones((len(b30hz90.index),1))\n",
        "b30hz90['failure'] = failureArray"
      ],
      "execution_count": null,
      "outputs": []
    },
    {
      "cell_type": "code",
      "metadata": {
        "colab": {
          "base_uri": "https://localhost:8080/",
          "height": 204
        },
        "id": "sPJu24BMa74R",
        "outputId": "0b7a71a4-0f59-4837-9351-014d25b174ec"
      },
      "source": [
        "b30hz90.tail()"
      ],
      "execution_count": null,
      "outputs": [
        {
          "output_type": "execute_result",
          "data": {
            "text/html": [
              "<div>\n",
              "<style scoped>\n",
              "    .dataframe tbody tr th:only-of-type {\n",
              "        vertical-align: middle;\n",
              "    }\n",
              "\n",
              "    .dataframe tbody tr th {\n",
              "        vertical-align: top;\n",
              "    }\n",
              "\n",
              "    .dataframe thead th {\n",
              "        text-align: right;\n",
              "    }\n",
              "</style>\n",
              "<table border=\"1\" class=\"dataframe\">\n",
              "  <thead>\n",
              "    <tr style=\"text-align: right;\">\n",
              "      <th></th>\n",
              "      <th>a1</th>\n",
              "      <th>a2</th>\n",
              "      <th>a3</th>\n",
              "      <th>a4</th>\n",
              "      <th>load</th>\n",
              "      <th>failure</th>\n",
              "    </tr>\n",
              "  </thead>\n",
              "  <tbody>\n",
              "    <tr>\n",
              "      <th>105723</th>\n",
              "      <td>4.43417</td>\n",
              "      <td>-2.03793</td>\n",
              "      <td>-0.546417</td>\n",
              "      <td>1.181320</td>\n",
              "      <td>90.0</td>\n",
              "      <td>1.0</td>\n",
              "    </tr>\n",
              "    <tr>\n",
              "      <th>105724</th>\n",
              "      <td>2.90332</td>\n",
              "      <td>-2.82035</td>\n",
              "      <td>-2.486930</td>\n",
              "      <td>0.115640</td>\n",
              "      <td>90.0</td>\n",
              "      <td>1.0</td>\n",
              "    </tr>\n",
              "    <tr>\n",
              "      <th>105725</th>\n",
              "      <td>-1.61799</td>\n",
              "      <td>1.27861</td>\n",
              "      <td>-6.159510</td>\n",
              "      <td>-1.376230</td>\n",
              "      <td>90.0</td>\n",
              "      <td>1.0</td>\n",
              "    </tr>\n",
              "    <tr>\n",
              "      <th>105726</th>\n",
              "      <td>-2.01122</td>\n",
              "      <td>-4.02945</td>\n",
              "      <td>-0.082050</td>\n",
              "      <td>0.932847</td>\n",
              "      <td>90.0</td>\n",
              "      <td>1.0</td>\n",
              "    </tr>\n",
              "    <tr>\n",
              "      <th>105727</th>\n",
              "      <td>-4.43736</td>\n",
              "      <td>-1.97041</td>\n",
              "      <td>3.074570</td>\n",
              "      <td>-3.557610</td>\n",
              "      <td>90.0</td>\n",
              "      <td>1.0</td>\n",
              "    </tr>\n",
              "  </tbody>\n",
              "</table>\n",
              "</div>"
            ],
            "text/plain": [
              "             a1       a2        a3        a4  load  failure\n",
              "105723  4.43417 -2.03793 -0.546417  1.181320  90.0      1.0\n",
              "105724  2.90332 -2.82035 -2.486930  0.115640  90.0      1.0\n",
              "105725 -1.61799  1.27861 -6.159510 -1.376230  90.0      1.0\n",
              "105726 -2.01122 -4.02945 -0.082050  0.932847  90.0      1.0\n",
              "105727 -4.43736 -1.97041  3.074570 -3.557610  90.0      1.0"
            ]
          },
          "metadata": {
            "tags": []
          },
          "execution_count": 190
        }
      ]
    },
    {
      "cell_type": "code",
      "metadata": {
        "id": "AUJBsSDtbTdR"
      },
      "source": [
        "# Concat Healty and Broken"
      ],
      "execution_count": null,
      "outputs": []
    },
    {
      "cell_type": "code",
      "metadata": {
        "id": "8IS4T-CTWAWt"
      },
      "source": [
        "broken_df = pd.concat([b30hz0,b30hz10,b30hz20,b30hz30,b30hz40,b30hz50,b30hz60,b30hz70,b30hz80,b30hz90],axis=0,ignore_index=True)"
      ],
      "execution_count": null,
      "outputs": []
    },
    {
      "cell_type": "code",
      "metadata": {
        "id": "IWhVzzXWWPMg"
      },
      "source": [
        "healthy_df = pd.concat([h30hz0,h30hz10,h30hz20,h30hz30,h30hz40,h30hz50,h30hz60,h30hz70,h30hz80,h30hz90],axis=0,ignore_index=True)"
      ],
      "execution_count": null,
      "outputs": []
    },
    {
      "cell_type": "code",
      "metadata": {
        "id": "aPYeWUZBWRkV"
      },
      "source": [
        "broken_health_merged   = pd.concat([broken_df,healthy_df], axis =0)"
      ],
      "execution_count": null,
      "outputs": []
    }
  ]
}